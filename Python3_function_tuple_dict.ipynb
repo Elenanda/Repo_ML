{
  "cells": [
    {
      "cell_type": "markdown",
      "metadata": {
        "id": "view-in-github",
        "colab_type": "text"
      },
      "source": [
        "<a href=\"https://colab.research.google.com/github/Elenanda/Repo_ML/blob/main/Python3_function_tuple_dict.ipynb\" target=\"_parent\"><img src=\"https://colab.research.google.com/assets/colab-badge.svg\" alt=\"Open In Colab\"/></a>"
      ]
    },
    {
      "cell_type": "markdown",
      "metadata": {
        "id": "TLgWd0KPsEbq"
      },
      "source": [
        "# Python Basic 3\n",
        "Functions, tuples, dictionaries, and data processing\n",
        "\n",
        "Referensi Tambahan:\n",
        "- https://docs.python.org/3.8/\n",
        "- https://docs.python.org/id/3.8/tutorial/\n",
        "\n",
        "\n",
        "## Materi\n",
        "\n",
        "- defining and using functions;\n",
        "- different ways of passing arguments;\n",
        "- name scopes;\n",
        "- tuples and dictionaries;\n",
        "- data processing."
      ]
    },
    {
      "cell_type": "markdown",
      "metadata": {
        "id": "giTsOQf6sEbs"
      },
      "source": [
        "\n",
        "\n"
      ]
    },
    {
      "cell_type": "markdown",
      "metadata": {
        "id": "0zPynn-SsEbt"
      },
      "source": [
        "# Function\n",
        "![function.png](attachment:function.png)\n",
        "- when you invoke a function, Python remembers the place where it happened and jumps into the invoked function;\n",
        "- the body of the function is then executed;\n",
        "- reaching the end of the function forces Python to return to the place directly after the point of invocation."
      ]
    },
    {
      "cell_type": "code",
      "execution_count": 1,
      "metadata": {
        "colab": {
          "base_uri": "https://localhost:8080/"
        },
        "id": "NJHGLfSssEbt",
        "outputId": "8b0d8519-0838-4154-d2ae-6a73380890ed"
      },
      "outputs": [
        {
          "output_type": "stream",
          "name": "stdout",
          "text": [
            "Angka 1 :\n",
            "8\n",
            "8\n",
            "Angka 2 :\n",
            "5\n",
            "5\n",
            "Angka 3 :\n",
            "7\n",
            "7\n"
          ]
        }
      ],
      "source": [
        "# Motivasi function adalah perulangan kode\n",
        "\n",
        "print(\"Angka 1 :\")\n",
        "a = int(input())\n",
        "print(a)\n",
        "\n",
        "print(\"Angka 2 :\")\n",
        "b = int(input())\n",
        "print(b)\n",
        "\n",
        "print(\"Angka 3 :\")\n",
        "c = int(input())\n",
        "print(c)"
      ]
    },
    {
      "cell_type": "markdown",
      "metadata": {
        "id": "vpVlx66CsEbu"
      },
      "source": [
        "Sintaks Function:\n",
        "\n",
        "```python\n",
        "def functionName():\n",
        "    functionBody\n",
        "```"
      ]
    },
    {
      "cell_type": "code",
      "execution_count": 2,
      "metadata": {
        "colab": {
          "base_uri": "https://localhost:8080/"
        },
        "id": "SIaddpY-sEbv",
        "outputId": "ff4617e7-cd89-41a0-e753-1851348fff80"
      },
      "outputs": [
        {
          "output_type": "stream",
          "name": "stdout",
          "text": [
            "Start disini... \n",
            "Input Angka :\n",
            "2\n",
            "2\n",
            "Input Angka :\n",
            "2\n",
            "2\n",
            "Input Angka :\n",
            "3\n",
            "3\n",
            "Stop disini... \n"
          ]
        }
      ],
      "source": [
        "def inputAngka():\n",
        "    print(\"Input Angka :\")\n",
        "    a = int(input())\n",
        "    print(a)\n",
        "\n",
        "print(\"Start disini... \")\n",
        "\n",
        "inputAngka()\n",
        "inputAngka()\n",
        "inputAngka()\n",
        "\n",
        "print(\"Stop disini... \")"
      ]
    },
    {
      "cell_type": "markdown",
      "metadata": {
        "id": "gOXYvwc_sEbv"
      },
      "source": [
        "### Parametrized functions"
      ]
    },
    {
      "cell_type": "code",
      "execution_count": 3,
      "metadata": {
        "colab": {
          "base_uri": "https://localhost:8080/"
        },
        "id": "hUxoBupQsEbw",
        "outputId": "43e2237e-38b2-4457-fbfb-4c3b1ad8f849"
      },
      "outputs": [
        {
          "output_type": "stream",
          "name": "stdout",
          "text": [
            "Pesan  hallo\n",
            "Pesan  namanya siapa ?\n"
          ]
        }
      ],
      "source": [
        "def pesan(m):\n",
        "    print(\"Pesan \",m.lower())\n",
        "\n",
        "pesan(\"Hallo\")\n",
        "pesan(\"Namanya siapa ?\")"
      ]
    },
    {
      "cell_type": "code",
      "execution_count": 4,
      "metadata": {
        "colab": {
          "base_uri": "https://localhost:8080/"
        },
        "id": "CU7qYAGLsEbw",
        "outputId": "9ba89d30-6a89-4db3-cf5d-8806225ba207"
      },
      "outputs": [
        {
          "output_type": "stream",
          "name": "stdout",
          "text": [
            "Nama :  Abu No Hp :  123\n",
            "Nama :  Abu No Hp :  0817244\n"
          ]
        }
      ],
      "source": [
        "def pesan(nama, nohp):\n",
        "    print(\"Nama : \",nama, \"No Hp : \",nohp)\n",
        "\n",
        "pesan(\"Abu\", 123)\n",
        "pesan(\"Abu\", \"0817244\")"
      ]
    },
    {
      "cell_type": "code",
      "execution_count": 5,
      "metadata": {
        "colab": {
          "base_uri": "https://localhost:8080/"
        },
        "id": "nz_dvPy2sEbx",
        "outputId": "5f905541-01d9-4042-baf3-146cff5036d3"
      },
      "outputs": [
        {
          "output_type": "stream",
          "name": "stdout",
          "text": [
            "Abu Salam 30.5\n"
          ]
        }
      ],
      "source": [
        "def tambahUsia(nama, umur):\n",
        "    umur = umur + 0.5\n",
        "    print(nama, umur)\n",
        "\n",
        "tambahUsia(\"Abu Salam\", 30)"
      ]
    },
    {
      "cell_type": "markdown",
      "metadata": {
        "id": "Xdqz70-rsEbx"
      },
      "source": [
        "### Posisi Parameter\n",
        "\n"
      ]
    },
    {
      "cell_type": "code",
      "execution_count": 6,
      "metadata": {
        "colab": {
          "base_uri": "https://localhost:8080/"
        },
        "id": "uRnns2DQsEbx",
        "outputId": "9359f31c-fb80-4f30-9da0-2e8dc1ec9c54"
      },
      "outputs": [
        {
          "output_type": "stream",
          "name": "stdout",
          "text": [
            "Hallo namanya adalah :  Abu Salam\n",
            "Hallo namanya adalah :  Dhita Aulia\n"
          ]
        }
      ],
      "source": [
        "def perkenalan(namaDepan, namaBelakang):\n",
        "    print(\"Hallo namanya adalah : \", namaDepan, namaBelakang)\n",
        "\n",
        "perkenalan(\"Abu\",\"Salam\")\n",
        "perkenalan(\"Dhita\",\"Aulia\")"
      ]
    },
    {
      "cell_type": "code",
      "execution_count": 7,
      "metadata": {
        "colab": {
          "base_uri": "https://localhost:8080/"
        },
        "id": "sRtXp2ZtsEby",
        "outputId": "739339e2-260c-497e-bcd1-b66c36b406b9"
      },
      "outputs": [
        {
          "output_type": "stream",
          "name": "stdout",
          "text": [
            "Hallo namanya adalah :  Abu2 salam2\n",
            "Hallo namanya adalah :  dhita2 aulia2\n"
          ]
        }
      ],
      "source": [
        "perkenalan(namaDepan = \"Abu2\", namaBelakang = \"salam2\")\n",
        "perkenalan(namaBelakang = \"aulia2\", namaDepan = \"dhita2\")"
      ]
    },
    {
      "cell_type": "code",
      "execution_count": 8,
      "metadata": {
        "colab": {
          "base_uri": "https://localhost:8080/"
        },
        "id": "T7bYenUWsEby",
        "outputId": "83803393-235e-4d5d-d3cf-7c0eec043578"
      },
      "outputs": [
        {
          "output_type": "stream",
          "name": "stdout",
          "text": [
            "5 + 5 + 4 = 14\n"
          ]
        }
      ],
      "source": [
        "def jumlah(a, b, c):\n",
        "    print(a, \"+\", b, \"+\", c, \"=\", a + b + c)\n",
        "\n",
        "jumlah(5,5,4)"
      ]
    },
    {
      "cell_type": "markdown",
      "metadata": {
        "id": "nyeYNAoesEbz"
      },
      "source": [
        "## Default parameter"
      ]
    },
    {
      "cell_type": "code",
      "execution_count": 9,
      "metadata": {
        "colab": {
          "base_uri": "https://localhost:8080/"
        },
        "id": "iVfltjyBsEbz",
        "outputId": "65f60343-51bb-40fa-deb5-c2e04e853d01"
      },
      "outputs": [
        {
          "output_type": "stream",
          "name": "stdout",
          "text": [
            "Hello, my name is Abu Smith\n",
            "Hello, my name is Abu Salam\n",
            "Hello, my name is Abu Salam\n"
          ]
        }
      ],
      "source": [
        "def introduction(firstName=\"John\",lastName=\"Smith\"):\n",
        "    print(\"Hello, my name is\", firstName, lastName)\n",
        "\n",
        "#Call the Function here\n",
        "introduction(firstName=\"Abu\")\n",
        "introduction(firstName=\"Abu\", lastName=\"Salam\")\n",
        "introduction(\"Abu\", lastName=\"Salam\")"
      ]
    },
    {
      "cell_type": "code",
      "execution_count": 10,
      "metadata": {
        "colab": {
          "base_uri": "https://localhost:8080/"
        },
        "id": "CupbCKLesEbz",
        "outputId": "a0baaaae-9b22-4b73-a8c9-51d72f59f30f"
      },
      "outputs": [
        {
          "output_type": "stream",
          "name": "stdout",
          "text": [
            "Hello, my name is Abu alex Salam\n"
          ]
        }
      ],
      "source": [
        "def introductionLengkap(firstName, lastName, middleName=\"Guntur\"):\n",
        "    print(\"Hello, my name is\", firstName, middleName, lastName)\n",
        "\n",
        "#Call the Function here\n",
        "introductionLengkap(firstName=\"Abu\", lastName=\"Salam\", middleName=\"alex\")"
      ]
    },
    {
      "cell_type": "markdown",
      "metadata": {
        "id": "zSK2RCMSsEb0"
      },
      "source": [
        "## Function dengan Return"
      ]
    },
    {
      "cell_type": "code",
      "execution_count": 11,
      "metadata": {
        "colab": {
          "base_uri": "https://localhost:8080/"
        },
        "id": "OMUoYfcFsEb0",
        "outputId": "e6ae2332-2859-4058-85e7-d247c18699cb"
      },
      "outputs": [
        {
          "output_type": "stream",
          "name": "stdout",
          "text": [
            "113.09733552923255\n",
            "25.0\n"
          ]
        }
      ],
      "source": [
        "def hitungLuasLingkaran(r):\n",
        "    import math\n",
        "    pi = math.pi\n",
        "    luas = pi * r * r\n",
        "    return luas\n",
        "\n",
        "# buat sebuah fungsi untuk menghitung luas segitiga\n",
        "def hitungLuasSegitiga(a,t):\n",
        "    luas = 0.5 * a * t\n",
        "    return luas\n",
        "\n",
        "\n",
        "x = hitungLuasLingkaran(6)\n",
        "y = hitungLuasSegitiga(5,10)\n",
        "\n",
        "print(x)\n",
        "print(y)"
      ]
    },
    {
      "cell_type": "code",
      "execution_count": 12,
      "metadata": {
        "colab": {
          "base_uri": "https://localhost:8080/"
        },
        "id": "4hR_KNJ5sEb0",
        "outputId": "2979f428-5c30-4c23-b7b9-d508d5b23d68"
      },
      "outputs": [
        {
          "output_type": "stream",
          "name": "stdout",
          "text": [
            "This Lesson is interesting!\n",
            "'Boredom Mode' ON.\n",
            "123\n",
            "test\n"
          ]
        }
      ],
      "source": [
        "def boringFunction():\n",
        "    print(\"'Boredom Mode' ON.\")\n",
        "    return 123\n",
        "\n",
        "print(\"This Lesson is interesting!\")\n",
        "x = boringFunction()\n",
        "print(x)\n",
        "print(\"test\")"
      ]
    },
    {
      "cell_type": "code",
      "execution_count": 13,
      "metadata": {
        "colab": {
          "base_uri": "https://localhost:8080/"
        },
        "id": "c8wOinXjsEb0",
        "outputId": "c2ba4dba-681a-4771-d6fc-bb1666fd4fdb"
      },
      "outputs": [
        {
          "output_type": "stream",
          "name": "stdout",
          "text": [
            "7\n"
          ]
        }
      ],
      "source": [
        "def jumlah(a,b):\n",
        "    c = a + b\n",
        "    return c\n",
        "\n",
        "a = jumlah(3,4)\n",
        "print(a)"
      ]
    },
    {
      "cell_type": "code",
      "execution_count": 14,
      "metadata": {
        "colab": {
          "base_uri": "https://localhost:8080/"
        },
        "id": "gGzYEyt1sEb1",
        "outputId": "afa6f479-1398-48e8-ece4-1538488e5d7c"
      },
      "outputs": [
        {
          "output_type": "stream",
          "name": "stdout",
          "text": [
            "True\n",
            "None\n"
          ]
        }
      ],
      "source": [
        "def strangeFunction(n):\n",
        "    if(n % 2 == 0):\n",
        "        return True\n",
        "\n",
        "#Call the Function here\n",
        "\n",
        "print(strangeFunction(4))\n",
        "print(strangeFunction(3))"
      ]
    },
    {
      "cell_type": "code",
      "execution_count": 15,
      "metadata": {
        "colab": {
          "base_uri": "https://localhost:8080/"
        },
        "id": "OCwDdULQsEb1",
        "outputId": "cdd01fa4-c41b-4560-faaf-f6390a7a6a78"
      },
      "outputs": [
        {
          "output_type": "stream",
          "name": "stdout",
          "text": [
            "10\n"
          ]
        }
      ],
      "source": [
        "def sumOfList(lst):\n",
        "    sum = 0\n",
        "\n",
        "    for elem in lst:\n",
        "        sum += elem\n",
        "\n",
        "    return sum\n",
        "\n",
        "#Call the Function here\n",
        "x = sumOfList([2,2,2,2,2])\n",
        "print(x)"
      ]
    },
    {
      "cell_type": "code",
      "execution_count": 16,
      "metadata": {
        "colab": {
          "base_uri": "https://localhost:8080/"
        },
        "id": "NNDNFatXsEb1",
        "outputId": "64fe9847-62a7-4dc9-835f-bc41e1050543"
      },
      "outputs": [
        {
          "output_type": "stream",
          "name": "stdout",
          "text": [
            "Insert 0\n",
            "[0]\n",
            "Insert 1\n",
            "[1, 0]\n",
            "Insert 2\n",
            "[2, 1, 0]\n",
            "Insert 3\n",
            "[3, 2, 1, 0]\n",
            "Insert 4\n",
            "[4, 3, 2, 1, 0]\n",
            "Insert 5\n",
            "[5, 4, 3, 2, 1, 0]\n",
            "Insert 6\n",
            "[6, 5, 4, 3, 2, 1, 0]\n",
            "Insert 7\n",
            "[7, 6, 5, 4, 3, 2, 1, 0]\n",
            "Insert 8\n",
            "[8, 7, 6, 5, 4, 3, 2, 1, 0]\n",
            "Insert 9\n",
            "[9, 8, 7, 6, 5, 4, 3, 2, 1, 0]\n",
            "Hasil :  [9, 8, 7, 6, 5, 4, 3, 2, 1, 0]\n"
          ]
        }
      ],
      "source": [
        "def strangeListFunction(n):\n",
        "    strangeList = []\n",
        "\n",
        "    for i in range(0, n):\n",
        "        print(\"Insert\",i)\n",
        "        strangeList.insert(0, i)\n",
        "        print(strangeList)\n",
        "\n",
        "    return strangeList\n",
        "\n",
        "#Call the Function here\n",
        "print(\"Hasil : \", strangeListFunction(10))"
      ]
    },
    {
      "cell_type": "markdown",
      "metadata": {
        "id": "L1J0ZBpZsEb1"
      },
      "source": [
        "### Latihan\n",
        "\n",
        "Your task is to write and test a function which takes one argument (a year) and returns `True` if the year is a leap year, or `False` otherwise.\n",
        "\n",
        "The seed of the function is already sown in the skeleton code in the editor.\n",
        "\n",
        "Note: we've also prepared a short testing code, which you can use to test your function.\n",
        "\n",
        "The code uses two lists - one with the test data, and the other containing the expected results. The code will tell you if any of your results are invalid.\n",
        "\n",
        "```python\n",
        "def isYearLeap(year):\n",
        "#\n",
        "# put your code here\n",
        "#\n",
        "\n",
        "testData = [1900, 2000, 2016, 1987]\n",
        "testResults = [False, True, True, False]\n",
        "for i in range(len(testData)):\n",
        "\tyr = testData[i]\n",
        "\tprint(yr,\"->\",end=\"\")\n",
        "\tresult = isYearLeap(yr)\n",
        "\tif result == testResults[i]:\n",
        "\t\tprint(\"OK\")\n",
        "\telse:\n",
        "\t\tprint(\"Failed\")\n",
        "        \n",
        "```\n"
      ]
    },
    {
      "cell_type": "code",
      "execution_count": 17,
      "metadata": {
        "colab": {
          "base_uri": "https://localhost:8080/"
        },
        "id": "fIiMrV3DsEb1",
        "outputId": "e39d06fc-8788-4faa-a702-b6282f30f52d"
      },
      "outputs": [
        {
          "output_type": "stream",
          "name": "stdout",
          "text": [
            "1900 ->OK\n",
            "2000 ->OK\n",
            "2016 ->OK\n",
            "1987 ->OK\n",
            "2004 ->OK\n"
          ]
        }
      ],
      "source": [
        "# Function Test tahun Kabisat\n",
        "def isYearLeap(year):\n",
        "    if (year % 4) == 0:\n",
        "        if (year % 100) == 0:\n",
        "            if (year % 400) == 0:\n",
        "                return True\n",
        "            else:\n",
        "                return False\n",
        "        else:\n",
        "            return True\n",
        "    else:\n",
        "        return False\n",
        "\n",
        "testData = [1900, 2000, 2016, 1987,2004]\n",
        "testResults = [False, True, True, False, True]\n",
        "for i in range(len(testData)):\n",
        "    yr = testData[i]\n",
        "    print(yr,\"->\",end=\"\")\n",
        "    result = isYearLeap(yr)\n",
        "    if result == testResults[i]:\n",
        "        print(\"OK\")\n",
        "    else:\n",
        "        print(\"Failed\")"
      ]
    },
    {
      "cell_type": "markdown",
      "metadata": {
        "id": "2ej7aasssEb1"
      },
      "source": [
        "## Scope in Function"
      ]
    },
    {
      "cell_type": "code",
      "execution_count": 18,
      "metadata": {
        "colab": {
          "base_uri": "https://localhost:8080/"
        },
        "id": "lLO9SfivsEb2",
        "outputId": "220ec34d-2296-490b-93e7-acef159c532e"
      },
      "outputs": [
        {
          "output_type": "stream",
          "name": "stdout",
          "text": [
            "90\n",
            "120\n"
          ]
        }
      ],
      "source": [
        "def scopeTest():\n",
        "    print(a)\n",
        "    b = 120\n",
        "    print(b)\n",
        "\n",
        "#Call the Function here\n",
        "\n",
        "a = 90\n",
        "scopeTest()"
      ]
    },
    {
      "cell_type": "code",
      "execution_count": 19,
      "metadata": {
        "colab": {
          "base_uri": "https://localhost:8080/"
        },
        "id": "TD55ZqFJsEb2",
        "outputId": "91463628-9e11-4994-86bb-9eab2edbcfae"
      },
      "outputs": [
        {
          "output_type": "stream",
          "name": "stdout",
          "text": [
            "Do I know that variable? 1\n",
            "1\n"
          ]
        }
      ],
      "source": [
        "def myFunction():\n",
        "    print(\"Do I know that variable?\", var)\n",
        "\n",
        "#Call the Function here\n",
        "var = 1\n",
        "myFunction()\n",
        "print(var)\n",
        "\n",
        "# The answer is: a variable existing outside a function\n",
        "# has a scope inside the functions' bodies."
      ]
    },
    {
      "cell_type": "code",
      "execution_count": 20,
      "metadata": {
        "colab": {
          "base_uri": "https://localhost:8080/"
        },
        "id": "G_kupbhmsEb2",
        "outputId": "05ceb238-832b-42f4-8092-be9392f0f880"
      },
      "outputs": [
        {
          "output_type": "stream",
          "name": "stdout",
          "text": [
            "Do I know that variable? 2\n",
            "2\n"
          ]
        }
      ],
      "source": [
        "def myFunction():\n",
        "    global var\n",
        "    var = 2\n",
        "    print(\"Do I know that variable?\", var)\n",
        "\n",
        "#Call the Function here\n",
        "var = 1\n",
        "myFunction()\n",
        "print(var)\n",
        "\n",
        "# There's a special Python method which can extend a variable's scope\n",
        "# in a way which includes the functions' bodies\n",
        "# (even if you want not only to read the values, but also to modify them)."
      ]
    },
    {
      "cell_type": "code",
      "execution_count": 21,
      "metadata": {
        "colab": {
          "base_uri": "https://localhost:8080/"
        },
        "id": "t1IoYkoWsEb2",
        "outputId": "7c55614c-57c9-48cb-e3b2-870b8f1c2e84"
      },
      "outputs": [
        {
          "output_type": "stream",
          "name": "stdout",
          "text": [
            "I got 1\n",
            "I have 2\n",
            "1\n"
          ]
        }
      ],
      "source": [
        "def myFunction(n):\n",
        "    print(\"I got\", n)\n",
        "    n += 1\n",
        "    print(\"I have\", n)\n",
        "\n",
        "#Call the Function here\n",
        "var = 1\n",
        "myFunction(var)\n",
        "\n",
        "print(var)\n",
        "\n",
        "#changing the parameter's value doesn't propagate outside the function"
      ]
    },
    {
      "cell_type": "markdown",
      "metadata": {
        "id": "_sPIITiBsEb2"
      },
      "source": [
        "# Some Function Examples"
      ]
    },
    {
      "cell_type": "markdown",
      "metadata": {
        "id": "bcvbDSn7sEb3"
      },
      "source": [
        "## BMI\n",
        "(Body Mass Index)"
      ]
    },
    {
      "cell_type": "code",
      "execution_count": 22,
      "metadata": {
        "colab": {
          "base_uri": "https://localhost:8080/"
        },
        "id": "BeZbEVqmsEb3",
        "outputId": "dc54776d-46f6-4823-dd47-6f7e384f868d"
      },
      "outputs": [
        {
          "output_type": "stream",
          "name": "stdout",
          "text": [
            "22.758306781975424\n"
          ]
        }
      ],
      "source": [
        "def bmi(weight, height):\n",
        "    return weight / height ** 2\n",
        "\n",
        "print(bmi(65, 1.69))"
      ]
    },
    {
      "cell_type": "code",
      "execution_count": 23,
      "metadata": {
        "colab": {
          "base_uri": "https://localhost:8080/"
        },
        "id": "ICR5XoTpsEb3",
        "outputId": "408ba92b-f981-45ae-9516-2a4674e3c4ff"
      },
      "outputs": [
        {
          "output_type": "stream",
          "name": "stdout",
          "text": [
            "24.508945765204302\n"
          ]
        }
      ],
      "source": [
        "def bmi(weight, height):\n",
        "    if height < 1.0 \\\n",
        "    or height > 2.5 \\\n",
        "    or weight < 20 \\\n",
        "    or weight > 200:\n",
        "        return None\n",
        "\n",
        "    return weight / height ** 2\n",
        "\n",
        "print(bmi(70, 1.69))"
      ]
    },
    {
      "cell_type": "markdown",
      "metadata": {
        "id": "UVXceOGHsEb3"
      },
      "source": [
        "## Segitiga"
      ]
    },
    {
      "cell_type": "code",
      "execution_count": 24,
      "metadata": {
        "colab": {
          "base_uri": "https://localhost:8080/"
        },
        "id": "myrLBZC0sEb3",
        "outputId": "c8747e1d-d75f-4716-b907-ae1718cb736d"
      },
      "outputs": [
        {
          "output_type": "stream",
          "name": "stdout",
          "text": [
            "True\n",
            "True\n"
          ]
        }
      ],
      "source": [
        "def isItATriangle(a, b, c):\n",
        "    if a + b <= c:\n",
        "        return False\n",
        "    if b + c <= a:\n",
        "        return False\n",
        "    if c + a <= b:\n",
        "        return False\n",
        "\n",
        "    return True\n",
        "\n",
        "#Call the Function here\n",
        "print(isItATriangle(1,1,1))\n",
        "print(isItATriangle(1,2,2))"
      ]
    },
    {
      "cell_type": "code",
      "execution_count": 25,
      "metadata": {
        "colab": {
          "base_uri": "https://localhost:8080/"
        },
        "id": "lqQuhBGesEb4",
        "outputId": "b7a3ebf0-a653-4f48-ea19-ef8ca4ef4b3c"
      },
      "outputs": [
        {
          "output_type": "stream",
          "name": "stdout",
          "text": [
            "Enter the first side's length: 3\n",
            "Enter the second side's length: 2\n",
            "Enter the third side's length: 1\n",
            "Sorry, it won't be a triangle.\n"
          ]
        }
      ],
      "source": [
        "def isItATriangle(a, b, c):\n",
        "    return a + b > c and b + c > a and c + a > b\n",
        "\n",
        "a = float(input(\"Enter the first side's length: \"))\n",
        "b = float(input(\"Enter the second side's length: \"))\n",
        "c = float(input(\"Enter the third side's length: \"))\n",
        "\n",
        "if isItATriangle(a, b, c):\n",
        "    print(\"Congratulations - it can be a triangle.\")\n",
        "else:\n",
        "    print(\"Sorry, it won't be a triangle.\")"
      ]
    },
    {
      "cell_type": "markdown",
      "metadata": {
        "id": "fv4SDNHYsEb4"
      },
      "source": [
        "## Faktorial"
      ]
    },
    {
      "cell_type": "code",
      "execution_count": 26,
      "metadata": {
        "colab": {
          "base_uri": "https://localhost:8080/"
        },
        "id": "3Qy--anQsEb9",
        "outputId": "3e731bcd-5923-4d48-83c2-82f4a47b0dcf"
      },
      "outputs": [
        {
          "output_type": "stream",
          "name": "stdout",
          "text": [
            "1 1\n",
            "2 2\n",
            "3 6\n",
            "4 24\n",
            "5 120\n",
            "6 720\n",
            "7 5040\n",
            "8 40320\n",
            "9 362880\n",
            "10 3628800\n",
            "11 39916800\n",
            "12 479001600\n",
            "13 6227020800\n",
            "14 87178291200\n"
          ]
        }
      ],
      "source": [
        "def factorialFun(n):\n",
        "    if n < 0:\n",
        "        return None\n",
        "    if n < 2:\n",
        "        return 1\n",
        "\n",
        "    product = 1\n",
        "    for i in range(2, n + 1):\n",
        "        product *= i\n",
        "    return product\n",
        "\n",
        "#Call the Function here\n",
        "for n in range(1, 15): # testing\n",
        "    print(n, factorialFun(n))"
      ]
    },
    {
      "cell_type": "markdown",
      "metadata": {
        "id": "WtEG7t_SsEb9"
      },
      "source": [
        "## Fibonacci"
      ]
    },
    {
      "cell_type": "code",
      "execution_count": 27,
      "metadata": {
        "colab": {
          "base_uri": "https://localhost:8080/"
        },
        "id": "pUV5Oft4sEb9",
        "outputId": "f215e532-2c2b-411d-c534-b64e21835d02"
      },
      "outputs": [
        {
          "output_type": "stream",
          "name": "stdout",
          "text": [
            "1 > 1\n",
            "2 > 1\n",
            "3 > 2\n",
            "4 > 3\n",
            "5 > 5\n",
            "6 > 8\n",
            "7 > 13\n",
            "8 > 21\n",
            "9 > 34\n"
          ]
        }
      ],
      "source": [
        "def fib(n):\n",
        "    if n < 1:\n",
        "         return None\n",
        "    if n < 3:\n",
        "        return 1\n",
        "\n",
        "    elem1 = elem2 = 1\n",
        "    sum = 0\n",
        "    for i in range(3, n + 1):\n",
        "        sum = elem1 + elem2\n",
        "        elem1, elem2 = elem2, sum\n",
        "    return sum\n",
        "\n",
        "#Call the Function here\n",
        "for n in range(1, 10): #testing\n",
        "    print(n, \">\", fib(n))"
      ]
    },
    {
      "cell_type": "markdown",
      "metadata": {
        "id": "EwXQm_pisEb9"
      },
      "source": [
        "## Recursion"
      ]
    },
    {
      "cell_type": "code",
      "execution_count": 28,
      "metadata": {
        "colab": {
          "base_uri": "https://localhost:8080/"
        },
        "id": "SiKfIvp4sEb9",
        "outputId": "1a119190-156e-4778-ad0c-9d0f75656581"
      },
      "outputs": [
        {
          "output_type": "stream",
          "name": "stdout",
          "text": [
            "1 -> 1\n",
            "2 -> 1\n",
            "3 -> 2\n",
            "4 -> 3\n",
            "5 -> 5\n",
            "6 -> 8\n",
            "7 -> 13\n",
            "8 -> 21\n",
            "9 -> 34\n",
            "56\n"
          ]
        }
      ],
      "source": [
        "#recursion 1\n",
        "def fib(n):\n",
        "    if n < 1:\n",
        "        return None\n",
        "    if n < 3:\n",
        "        return 1\n",
        "    return fib(n - 1) + fib(n - 2)\n",
        "\n",
        "for n in range(1, 10): # testing\n",
        "    print(n, \"->\", fib(n))\n",
        "\n",
        "#recursion 2\n",
        "\n",
        "def fun(a):\n",
        "    if a > 30:\n",
        "        return 3\n",
        "    else:\n",
        "        return a + fun(a + 3)\n",
        "\n",
        "\n",
        "print(fun(25))\n"
      ]
    },
    {
      "cell_type": "markdown",
      "metadata": {
        "id": "AcZG5ZBNsEb-"
      },
      "source": [
        "#### Contoh Kasus Stop Word Removal"
      ]
    },
    {
      "cell_type": "code",
      "execution_count": 29,
      "metadata": {
        "colab": {
          "base_uri": "https://localhost:8080/"
        },
        "id": "0Q-bC0gqsEb-",
        "outputId": "d2f08dec-760b-4bb8-f902-fad7cf01831c"
      },
      "outputs": [
        {
          "output_type": "stream",
          "name": "stdout",
          "text": [
            "ibu pergi pasar bapak\n"
          ]
        }
      ],
      "source": [
        "kalimat = \"Ibu pergi ke pasar dengan Bapak\"\n",
        "stopw = ['ke','dengan','saya','dia']\n",
        "\n",
        "def removeStop(sentence):\n",
        "#     words = []\n",
        "    words = [word for word in sentence.split() if word not in stopw]\n",
        "#     for word in sentence.split():\n",
        "#         if word not in stopw:\n",
        "#             words.append(word)\n",
        "\n",
        "    return ' '.join(words)\n",
        "\n",
        "# print('ke' in kalimat.split())\n",
        "kalimat_stop = removeStop(kalimat.lower())\n",
        "\n",
        "print(kalimat_stop)\n",
        "# output kalimat_stop: Ibu pergi pasar Bapak\"\n",
        "\n"
      ]
    },
    {
      "cell_type": "markdown",
      "metadata": {
        "id": "hTNjZiuGsEb-"
      },
      "source": [
        "# Tuples and Dictionaries"
      ]
    },
    {
      "cell_type": "markdown",
      "metadata": {
        "id": "7X4yaHDksEb-"
      },
      "source": [
        "##### List VS Tuple\n",
        "List datanya bisa dirubah selama eksekusi program, sifatnya bernama mutable\n",
        "Sebaliknya tuple tidak bisa, sifatnya dinamakan immutable. Persamaannya keduanya sama-sama bisa menyimpan banyak nilai sekaligus dalam satu tipe data (sequence type)"
      ]
    },
    {
      "cell_type": "markdown",
      "metadata": {
        "id": "z-dsdo1_sEb-"
      },
      "source": [
        "## Tuples\n",
        "Tuples are ordered and unchangeable (immutable) collections of data. They can be thought of as immutable lists. They are written in round brackets:"
      ]
    },
    {
      "cell_type": "code",
      "execution_count": 30,
      "metadata": {
        "colab": {
          "base_uri": "https://localhost:8080/"
        },
        "id": "ShtsLGXXsEb-",
        "outputId": "98579895-8b99-4ded-d744-8506d7626dfe"
      },
      "outputs": [
        {
          "output_type": "stream",
          "name": "stdout",
          "text": [
            "(1, 2, True, 'a string', (3, 4), [5, 6], None)\n",
            "[1, 2, True, 'a string', (3, 4), [5, 6], None]\n"
          ]
        }
      ],
      "source": [
        "myTuple = (1, 2, True, \"a string\", (3, 4), [5, 6], None)\n",
        "#Print Function here\n",
        "print(myTuple)\n",
        "\n",
        "myList = [1, 2, True, \"a string\", (3, 4), [5, 6], None]\n",
        "#Print Function here\n",
        "print(myList)\n"
      ]
    },
    {
      "cell_type": "code",
      "execution_count": 31,
      "metadata": {
        "colab": {
          "base_uri": "https://localhost:8080/"
        },
        "id": "T528oMyLsEb_",
        "outputId": "96e0c51d-f892-4247-b164-95cfd53ce7a1"
      },
      "outputs": [
        {
          "output_type": "stream",
          "name": "stdout",
          "text": [
            "(1, 2, 3, 4)\n",
            "(1.0, 0.5, 0.25, 0.124)\n"
          ]
        }
      ],
      "source": [
        "tup1 = (1,2,3,4)\n",
        "tup2 = 1.0, .5, .25, .124\n",
        "\n",
        "print(tup1)\n",
        "print(tup2)"
      ]
    },
    {
      "cell_type": "code",
      "execution_count": 32,
      "metadata": {
        "colab": {
          "base_uri": "https://localhost:8080/"
        },
        "id": "C0MdAyOOsEb_",
        "outputId": "77e6d247-d673-420c-f716-5cbc2a497260"
      },
      "outputs": [
        {
          "output_type": "stream",
          "name": "stdout",
          "text": [
            "<class 'tuple'>\n"
          ]
        }
      ],
      "source": [
        "emptyTuple = ()\n",
        "print(type(emptyTuple))"
      ]
    },
    {
      "cell_type": "code",
      "execution_count": 33,
      "metadata": {
        "colab": {
          "base_uri": "https://localhost:8080/"
        },
        "id": "HA1fuYsZsEb_",
        "outputId": "327b5e9d-417a-4725-8dec-1f693e1a7cf7"
      },
      "outputs": [
        {
          "output_type": "stream",
          "name": "stdout",
          "text": [
            "1\n",
            "1000\n",
            "(10, 100, 1000)\n",
            "(1, 10)\n",
            "1 10 100 1000 "
          ]
        }
      ],
      "source": [
        "myTuple = (1, 10, 100, 1000)\n",
        "\n",
        "print(myTuple[0])\n",
        "print(myTuple[-1])\n",
        "print(myTuple[1:])\n",
        "print(myTuple[:-2])\n",
        "\n",
        "for elem in myTuple:\n",
        "    print(elem, end = \" \")"
      ]
    },
    {
      "cell_type": "code",
      "execution_count": 34,
      "metadata": {
        "id": "uRlaeleLsEb_"
      },
      "outputs": [],
      "source": [
        "myTuple = (1, 10, 100, 1000)\n",
        "\n",
        "#Tuple operation ?\n",
        "\n",
        "# myTuple.append(10000)\n",
        "# del myTuple[0]\n",
        "# myTuple[1] = -10"
      ]
    },
    {
      "cell_type": "code",
      "execution_count": 35,
      "metadata": {
        "colab": {
          "base_uri": "https://localhost:8080/"
        },
        "id": "iVdbf7HrsEcA",
        "outputId": "6f743ea7-ce56-4268-8222-29d726dac6e1"
      },
      "outputs": [
        {
          "output_type": "stream",
          "name": "stdout",
          "text": [
            "<class 'tuple'>\n",
            "1\n",
            "100\n",
            "(10, 100)\n",
            "(1,)\n"
          ]
        }
      ],
      "source": [
        "myTuple = (1, 10, 100)\n",
        "print(type(myTuple))\n",
        "\n",
        "#Tuple operation\n",
        "print(myTuple[0])\n",
        "print(myTuple[-1])\n",
        "print(myTuple[1:])\n",
        "print(myTuple[:-2])\n",
        "# Print Function here"
      ]
    },
    {
      "cell_type": "code",
      "execution_count": 36,
      "metadata": {
        "colab": {
          "base_uri": "https://localhost:8080/"
        },
        "id": "mxq0l8Z-sEcA",
        "outputId": "f2e8a192-67f2-4320-e11f-09fb5a9d69b6"
      },
      "outputs": [
        {
          "output_type": "stream",
          "name": "stdout",
          "text": [
            "1\n",
            "2\n",
            "3\n",
            "False\n",
            "True\n",
            "4\n",
            "(1, 2, 3, 1, 2, 3, 4)\n",
            "(1, 2, 3, 5, 1, 2, 3, 5)\n"
          ]
        }
      ],
      "source": [
        "# Example 1\n",
        "t1 = (1, 2, 3)\n",
        "for elem in t1:\n",
        "    print(elem)\n",
        "\n",
        "# Example 2\n",
        "t2 = (1, 2, 3, 4)\n",
        "print(5 in t2)\n",
        "print(5 not in t2)\n",
        "\n",
        "# Example 3\n",
        "t3 = (1, 2, 3, 5)\n",
        "print(len(t3))\n",
        "\n",
        "# Example 4\n",
        "t4 = t1 + t2\n",
        "t5 = t3 * 2\n",
        "\n",
        "print(t4)\n",
        "print(t5)"
      ]
    },
    {
      "cell_type": "markdown",
      "metadata": {
        "id": "fCZ3piFPsEcA"
      },
      "source": [
        "## Dictionaries"
      ]
    },
    {
      "cell_type": "markdown",
      "metadata": {
        "id": "rDkd-ZLusEcA"
      },
      "source": [
        "In Python's world, the word you look for is named a key. The word you get from the dictionary is called a value.\n",
        "\n",
        "Dictionaries are unordered*, changeable (mutable), and indexed collections of data. (*In Python 3.6x dictionaries have become ordered by default.\n",
        "\n",
        "This means that a dictionary is a set of key-value pairs. Note:\n",
        "\n",
        "- each key must be unique - it's not possible to have more than one key of the same value;\n",
        "- a key may be data of any type: it may be a number (integer or float), or even a string;\n",
        "- a dictionary is not a list - a list contains a set of numbered values, while a dictionary holds pairs of values;\n",
        "- the len() function works for dictionaries, too - it returns the numbers of key-value elements in the dictionary;\n",
        "- a dictionary is a one-way tool - if you have an English-French dictionary, you can look for French equivalents of English terms, but not vice versa."
      ]
    },
    {
      "cell_type": "code",
      "execution_count": 37,
      "metadata": {
        "colab": {
          "base_uri": "https://localhost:8080/"
        },
        "id": "Rk782Rz0sEcA",
        "outputId": "2392c14d-0f5f-43a7-f18f-4495b7615c02"
      },
      "outputs": [
        {
          "output_type": "stream",
          "name": "stdout",
          "text": [
            "\n",
            "{'boss': 5551234567, 'Suzy': [22657854310, 52852352]}\n",
            "{}\n"
          ]
        }
      ],
      "source": [
        "kamus = {\"cat\" : \"chat\", \"dog\" : \"chien\", \"horse\" : \"cheval\"}\n",
        "phoneNumbers = {'boss' : 5551234567, 'Suzy' : [22657854310,52852352]}\n",
        "emptyDictionary = {}\n",
        "\n",
        "print()\n",
        "print(phoneNumbers)\n",
        "print(emptyDictionary)"
      ]
    },
    {
      "cell_type": "code",
      "execution_count": 38,
      "metadata": {
        "colab": {
          "base_uri": "https://localhost:8080/"
        },
        "id": "AihEN00asEcB",
        "outputId": "63975534-3a3a-49bf-994d-dd6300fe6adc"
      },
      "outputs": [
        {
          "output_type": "stream",
          "name": "stdout",
          "text": [
            "chat\n",
            "[22657854310, 52852352]\n",
            "22657854310\n"
          ]
        }
      ],
      "source": [
        "print(kamus['cat'])\n",
        "print(phoneNumbers['Suzy'])\n",
        "print(phoneNumbers['Suzy'][0])"
      ]
    },
    {
      "cell_type": "code",
      "execution_count": 39,
      "metadata": {
        "colab": {
          "base_uri": "https://localhost:8080/"
        },
        "id": "VmKl5G3psEcB",
        "outputId": "3e3a459b-b7fc-4da6-84a7-6747bd95839a"
      },
      "outputs": [
        {
          "output_type": "stream",
          "name": "stdout",
          "text": [
            "horse cheval\n",
            "cat chat\n",
            "dog chien\n"
          ]
        }
      ],
      "source": [
        "dict = {\"horse\" : \"cheval\", \"cat\" : \"chat\", \"dog\" : \"chien\"}\n",
        "\n",
        "for key in dict.keys():\n",
        "    print(key,dict[key])"
      ]
    },
    {
      "cell_type": "code",
      "execution_count": 40,
      "metadata": {
        "colab": {
          "base_uri": "https://localhost:8080/"
        },
        "id": "0gcv5xGSsEcB",
        "outputId": "5a737bf9-ce0c-41f5-bbe0-d542090c1238"
      },
      "outputs": [
        {
          "output_type": "stream",
          "name": "stdout",
          "text": [
            "cat -> chat\n",
            "dog -> chien\n",
            "horse -> cheval\n"
          ]
        }
      ],
      "source": [
        "for key in sorted(dict.keys()):\n",
        "    print(key, \"->\", dict[key])"
      ]
    },
    {
      "cell_type": "markdown",
      "metadata": {
        "id": "kD3EoQmQsEcB"
      },
      "source": [
        "### items and values"
      ]
    },
    {
      "cell_type": "code",
      "execution_count": 41,
      "metadata": {
        "colab": {
          "base_uri": "https://localhost:8080/"
        },
        "id": "GAKrArLgsEcB",
        "outputId": "744023c2-d878-4429-eb4f-288f019afa78"
      },
      "outputs": [
        {
          "output_type": "stream",
          "name": "stdout",
          "text": [
            "cat -> chat\n",
            "dog -> chien\n",
            "horse -> cheval\n"
          ]
        }
      ],
      "source": [
        "dict = {\"cat\" : \"chat\", \"dog\" : \"chien\", \"horse\" : \"cheval\"}\n",
        "\n",
        "for english, french in dict.items():\n",
        "    print(english, \"->\", french)"
      ]
    },
    {
      "cell_type": "code",
      "execution_count": 42,
      "metadata": {
        "colab": {
          "base_uri": "https://localhost:8080/"
        },
        "id": "CsHNT1TIsEcC",
        "outputId": "ff81c44f-4254-4ca3-d058-e410bbb13771"
      },
      "outputs": [
        {
          "output_type": "stream",
          "name": "stdout",
          "text": [
            "chat\n",
            "chien\n",
            "cheval\n"
          ]
        }
      ],
      "source": [
        "dict = {\"cat\" : \"chat\", \"dog\" : \"chien\", \"horse\" : \"cheval\"}\n",
        "\n",
        "for french in dict.values():\n",
        "    print(french)"
      ]
    },
    {
      "cell_type": "code",
      "execution_count": 43,
      "metadata": {
        "colab": {
          "base_uri": "https://localhost:8080/"
        },
        "id": "EFb0_giTsEcC",
        "outputId": "0d3cf9a9-ec67-4f42-c4c7-766a565f34d3"
      },
      "outputs": [
        {
          "output_type": "stream",
          "name": "stdout",
          "text": [
            "cat -> chat\n",
            "lion is not in dictionary\n",
            "horse -> cheval\n",
            "mouse is not in dictionary\n"
          ]
        }
      ],
      "source": [
        "dict = {\"cat\" : \"chat\", \"dog\" : \"chien\", \"horse\" : \"cheval\"}\n",
        "words = ['cat', 'lion', 'horse','mouse']\n",
        "\n",
        "for word in words:\n",
        "    if word in dict:\n",
        "        print(word, \"->\", dict[word])\n",
        "    else:\n",
        "        print(word, \"is not in dictionary\")"
      ]
    },
    {
      "cell_type": "markdown",
      "metadata": {
        "id": "PWsqz6JtsEcC"
      },
      "source": [
        "### Replace"
      ]
    },
    {
      "cell_type": "code",
      "execution_count": 44,
      "metadata": {
        "colab": {
          "base_uri": "https://localhost:8080/"
        },
        "id": "1GmPpns0sEcC",
        "outputId": "1f5b2147-592a-4200-f09a-96afa6541c5c"
      },
      "outputs": [
        {
          "output_type": "stream",
          "name": "stdout",
          "text": [
            "{'cat': 'minou', 'dog': 'chien', 'horse': 'cheval'}\n"
          ]
        }
      ],
      "source": [
        "dict = {\"cat\" : \"chat\", \"dog\" : \"chien\", \"horse\" : \"cheval\"}\n",
        "\n",
        "dict['cat'] = 'minou'\n",
        "print(dict)"
      ]
    },
    {
      "cell_type": "markdown",
      "metadata": {
        "id": "DNMWGQ9WsEcC"
      },
      "source": [
        "### Adding new key"
      ]
    },
    {
      "cell_type": "code",
      "execution_count": 45,
      "metadata": {
        "colab": {
          "base_uri": "https://localhost:8080/"
        },
        "id": "6q-2sXWRsEcC",
        "outputId": "973dfc7a-a8c6-42fd-fac0-861957d8bec2"
      },
      "outputs": [
        {
          "output_type": "stream",
          "name": "stdout",
          "text": [
            "{'cat': 'chat', 'dog': 'chien', 'horse': 'cheval', 'swan': 'cygne', 'animal': 'hewan'}\n",
            "animal hewan\n",
            "cat chat\n",
            "dog chien\n",
            "horse cheval\n",
            "swan cygne\n"
          ]
        }
      ],
      "source": [
        "dict = {\"cat\" : \"chat\", \"dog\" : \"chien\", \"horse\" : \"cheval\"}\n",
        "\n",
        "dict['swan'] = 'cygne'\n",
        "dict['animal'] = 'hewan'\n",
        "print(dict)\n",
        "\n",
        "for key in sorted(dict.keys()):\n",
        "    print(key,dict[key])"
      ]
    },
    {
      "cell_type": "markdown",
      "metadata": {
        "id": "PSs-JZMqsEcD"
      },
      "source": [
        "### Tuples and Dictionaries work Together\n",
        "\n"
      ]
    },
    {
      "cell_type": "markdown",
      "metadata": {
        "id": "Xoft1addsEcD"
      },
      "source": [
        "- line 1: create an empty dictionary for the input data; the student's name is used as a key, while all the associated scores are stored in a tuple (the tuple may be a dictionary value - that's not a problem at all)\n",
        "- line 3: enter an \"infinite\" loop (don't worry, it'll break at the right moment)\n",
        "- line 4: read the student's name here;\n",
        "- line 5-6: if the name is exit, leave the loop;\n",
        "- line 8: ask for one of the student's scores (an integer from the range 1-10)\n",
        "- line 10-11: if the student's name is already in the dictionary, lengthen the associated tuple with the new score (note the += operator)\n",
        "- line 12-13: if this is a new student (unknown to the dictionary), create a new entry - its value is a one-element tuple containing the entered score;\n",
        "- line 15: iterate through the sorted students' names;\n",
        "- line 16-17: initialize the data needed to evaluate the average (sum and counter)\n",
        "- line 18-20: we iterate through the tuple, taking all the subsequent scores and updating the sum, together with the counter;\n",
        "- line 21: evaluate and print the student's name and average score."
      ]
    },
    {
      "cell_type": "code",
      "execution_count": 47,
      "metadata": {
        "colab": {
          "base_uri": "https://localhost:8080/"
        },
        "id": "LtP5L1KUsEcD",
        "outputId": "3423c185-1449-421f-8a7b-584ada8683f4"
      },
      "outputs": [
        {
          "output_type": "stream",
          "name": "stdout",
          "text": [
            "Enter the student's name (or type exit to stop): elenanda\n",
            "Enter the student's score (0-10): 10\n",
            "Enter the student's name (or type exit to stop): elenanda\n",
            "Enter the student's score (0-10): 10\n",
            "Enter the student's name (or type exit to stop): elenanda\n",
            "Enter the student's score (0-10): 10\n",
            "Enter the student's name (or type exit to stop): 1\n",
            "Enter the student's score (0-10): 0\n",
            "Enter the student's name (or type exit to stop): exit\n",
            "{'elenanda': (10, 10, 10), '1': (0,)}\n",
            "1 : 0.0\n",
            "elenanda : 10.0\n"
          ]
        }
      ],
      "source": [
        "schoolClass = {}\n",
        "\n",
        "while True:\n",
        "    name = input(\"Enter the student's name (or type exit to stop): \")\n",
        "    if name == 'exit':\n",
        "        break\n",
        "\n",
        "    score = int(input(\"Enter the student's score (0-10): \"))\n",
        "\n",
        "    if name in schoolClass:\n",
        "        schoolClass[name] += (score,)\n",
        "    else:\n",
        "        schoolClass[name] = (score,)\n",
        "\n",
        "print(schoolClass)\n",
        "\n",
        "for name in sorted(schoolClass.keys()):\n",
        "    sum = 0\n",
        "    counter = 0\n",
        "    for score in schoolClass[name]:\n",
        "        sum += score\n",
        "        counter += 1\n",
        "    print(name, \":\", sum / counter)"
      ]
    },
    {
      "cell_type": "code",
      "execution_count": null,
      "metadata": {
        "id": "xuQrhdnpsEcE"
      },
      "outputs": [],
      "source": [
        "def tf(sentence):\n",
        "    d = {}\n",
        "    for word in sentence.split():\n",
        "        if word not in d:\n",
        "            d[word] = 1\n",
        "        else:\n",
        "            d[word] += 1\n",
        "    return d\n",
        "\n",
        "kalimat = \"Ibu pergi ke pasar dengan Bapak dan Ibu Ibu lain\"\n",
        "stopw.append('dan')\n",
        "stopw.append('lain')\n",
        "kalimat_stop = removeStop(kalimat.lower())\n",
        "tf_kalimat = tf(kalimat_stop)\n",
        "\n",
        "print(tf_kalimat)"
      ]
    },
    {
      "cell_type": "markdown",
      "metadata": {
        "id": "45si3LBDsEcE"
      },
      "source": [
        "# Summary\n",
        "\n",
        "1. Dictionaries are unordered*, changeable (mutable), and indexed collections of data. (*In Python 3.6x dictionaries have become ordered by default.\n",
        "\n",
        "Each dictionary is a set of key : value pairs. You can create it by using the following syntax:\n",
        "\n",
        "```python            \n",
        "myDictionary = {\n",
        "    key1 : value1,\n",
        "    key2 : value2,\n",
        "    key3 : value3,\n",
        "    }\n",
        "```\n",
        "2. If you want to access a dictionary item, you can do so by making a reference to its key inside a pair of square brackets (ex. 1) or by using the get() method (ex. 2):\n",
        "\n",
        "```python                                                                                         \n",
        "polEngDict = {\n",
        "    \"kwiat\" : \"flower\",\n",
        "    \"woda\"  : \"water\",\n",
        "    \"gleba\" : \"soil\"\n",
        "    }\n",
        "\n",
        "item1 = polEngDict[\"gleba\"]    # ex. 1\n",
        "print(item1)    # outputs: soil\n",
        "\n",
        "item2 = polEngDict.get(\"woda\")\n",
        "print(item2)    # outputs: water\n",
        "```\n",
        "3. If you want to change the value associated with a specific key, you can do so by referring to the item's key name in the following way:\n",
        "\n",
        "```python\n",
        "polEngDict = {\n",
        "    \"zamek\" : \"castle\",\n",
        "    \"woda\"  : \"water\",\n",
        "    \"gleba\" : \"soil\"\n",
        "    }\n",
        "\n",
        "polEngDict[\"zamek\"] = \"lock\"\n",
        "item = polEngDict[\"zamek\"]    # outputs: lock\n",
        "```\n",
        "4. To add or remove a key (and the associated value), use the following syntax:\n",
        "\n",
        "```python\n",
        "myPhonebook = {}    # an empty dictionary\n",
        "\n",
        "myPhonebook[\"Adam\"] = 3456783958    # create/add a key-value pair\n",
        "print(myPhonebook)    # outputs: {'Adam': 3456783958}\n",
        "\n",
        "del myPhonebook[\"Adam\"]\n",
        "print(myPhonebook)    # outputs: {}\n",
        "```\n",
        "\n",
        "You can also insert an item to a dictionary by using the update() method, and remove the last element by using the popitem() method, e.g.:\n",
        "\n",
        "```python\n",
        "polEngDict = {\"kwiat\" : \"flower\"}\n",
        "\n",
        "polEngDict = update(\"gleba\" : \"soil\")\n",
        "print(polEngDict)    # outputs: {'kwiat' : 'flower', 'gleba' : 'soil'}\n",
        "\n",
        "polEngDict.popitem()\n",
        "print(polEngDict)    # outputs: {'kwiat' : 'flower'}\n",
        "```\n",
        "\n",
        "5. You can use the for loop to loop through a dictionary, e.g.:\n",
        "\n",
        "```python\n",
        "polEngDict = {\n",
        "    \"zamek\" : \"castle\",\n",
        "    \"woda\"  : \"water\",\n",
        "    \"gleba\" : \"soil\"\n",
        "    }\n",
        "\n",
        "for item in polEngDict:\n",
        "    print(item)    # outputs: zamek\n",
        "                   #          woda\n",
        "                   #          gleba\n",
        "\n",
        "```\n",
        "\n",
        "\n",
        "\n",
        "6. If you want to loop through a dictionary's keys and values, you can use the items() method, e.g.:\n",
        "\n",
        "\n",
        "```python\n",
        "polEngDict = {\n",
        "    \"zamek\" : \"castle\",\n",
        "    \"woda\"  : \"water\",\n",
        "    \"gleba\" : \"soil\"\n",
        "    }\n",
        "\n",
        "for key, value in polEngDict.items():\n",
        "    print(\"Pol/Eng ->\", key, \":\", value)\n",
        "```\n",
        "\n",
        "\n",
        "7. To check if a given key exists in a dictionary, you can use the in keyword:\n",
        "\n",
        "```python\n",
        "polEngDict = {\n",
        "    \"zamek\" : \"castle\",\n",
        "    \"woda\"  : \"water\",\n",
        "    \"gleba\" : \"soil\"\n",
        "    }\n",
        "\n",
        "if \"zamek\" in polEngDict:\n",
        "    print(\"Yes\")\n",
        "else:\n",
        "    print(\"No\")\n",
        "```\n",
        "\n",
        "8. You can use the del keyword to remove a specific item, or delete a dictionary. To remove all the dictionary's items, you need to use the clear() method:\n",
        "\n",
        "```python\n",
        "polEngDict = {\n",
        "    \"zamek\" : \"castle\",\n",
        "    \"woda\"  : \"water\",\n",
        "    \"gleba\" : \"soil\"\n",
        "    }\n",
        "\n",
        "print(len(polEngDict))    # outputs: 3\n",
        "del polEngDict[\"zamek\"]    # remove an item\n",
        "print(len(polEngDict))    # outputs: 2\n",
        "\n",
        "polEngDict.clear()   # removes all the items\n",
        "print(len(polEngDict))    # outputs: 0\n",
        "\n",
        "del polEngDict    # removes the dictionary\n",
        "```\n",
        "\n",
        "9. To copy a dictionary, use the copy() method:\n",
        "\n",
        "```python\n",
        "polEngDict = {\n",
        "    \"zamek\" : \"castle\",\n",
        "    \"woda\"  : \"water\",\n",
        "    \"gleba\" : \"soil\"\n",
        "    }\n",
        "\n",
        "copyDict = polEngDict.copy()\n",
        "```"
      ]
    },
    {
      "cell_type": "markdown",
      "metadata": {
        "id": "HW3vvYVpsEcF"
      },
      "source": [
        "# Key Takeaways"
      ]
    },
    {
      "cell_type": "code",
      "execution_count": null,
      "metadata": {
        "id": "yD6TwDthsEcF"
      },
      "outputs": [],
      "source": [
        "myTuple = (1, 2, True, \"a string\", (3, 4), [5, 6], None)\n",
        "#print(myTuple)\n",
        "\n",
        "myList = [1, 2, True, \"a string\", (3, 4), [5, 6], None]\n",
        "#print(myList)\n",
        "\n",
        "for r in myTuple[::-1]:\n",
        "    print(r)"
      ]
    },
    {
      "cell_type": "code",
      "execution_count": null,
      "metadata": {
        "id": "ja86EMIBsEcF"
      },
      "outputs": [],
      "source": [
        "emptyTuple = ()\n",
        "print(type(emptyTuple))    # outputs: <class 'tuple'>"
      ]
    },
    {
      "cell_type": "code",
      "execution_count": null,
      "metadata": {
        "id": "bda_A8LisEcF"
      },
      "outputs": [],
      "source": [
        "myListTuple = list(myTuple)\n",
        "print(myListTuple)\n",
        "myTupleLagi = tuple(myListTuple)\n",
        "print(myTupleLagi)"
      ]
    },
    {
      "cell_type": "code",
      "execution_count": null,
      "metadata": {
        "id": "05nSVaP5sEcF"
      },
      "outputs": [],
      "source": [
        "oneElemTup1 = (\"one\",  )    # brackets dan koma, kalau tidak ada komanya jadi string\n",
        "oneElemTup2 = \"one\",     # no brackets, just a comma\n",
        "\n",
        "print(type(oneElemTup1))\n",
        "print(len(oneElemTup1+oneElemTup2))\n",
        "\n",
        "oneElemList = ['one']\n",
        "print(type(oneElemList))"
      ]
    },
    {
      "cell_type": "code",
      "execution_count": null,
      "metadata": {
        "id": "ibegrSD-sEcG"
      },
      "outputs": [],
      "source": [
        "# Example 1\n",
        "t1 = (1, 2, 3)\n",
        "for elem in t1:\n",
        "    print(elem)\n",
        "\n",
        "# Example 2\n",
        "t2 = (1, 2, 3, 4)\n",
        "print(5 in t2)\n",
        "print(5 not in t2)\n",
        "\n",
        "# Example 3\n",
        "t3 = (1, 2, 3, 5)\n",
        "print(len(t3))\n",
        "\n",
        "# Example 4\n",
        "t4 = t1 + t2\n",
        "t5 = t3 * 2\n",
        "\n",
        "print(t4)\n",
        "print(t5)\n"
      ]
    },
    {
      "cell_type": "code",
      "execution_count": null,
      "metadata": {
        "id": "I3_ZE5e9sEcG"
      },
      "outputs": [],
      "source": [
        "import pprint\n",
        "pp = pprint.PrettyPrinter(indent=4)\n",
        "\n",
        "mahasiswa = [\n",
        "    {\n",
        "        'nim' : '08/123123/PA/123213',\n",
        "        'nama' : 'Guntur Budi H',\n",
        "        'nilai' : [80,90,75,30]\n",
        "    },\n",
        "    {\n",
        "        'nim' : '08/213123/PA/98120',\n",
        "        'nama' : 'Annisa Maulida N',\n",
        "        'nilai' : [100,90,77,110]\n",
        "    }\n",
        "]\n",
        "mahasiswa_baru = {\n",
        "    'nim' : '12/12414/PA/12312',\n",
        "    'nama' : 'Miftahhurahma Rosyda'\n",
        "}\n",
        "\n",
        "mahasiswa.append(mahasiswa_baru)\n",
        "mahasiswa[0]['nilai'].append(79)\n",
        "mahasiswa[2]['nilai'] = [80,100,95,25]\n",
        "\n",
        "#pp.pprint(mahasiswa)\n",
        "pp.pprint(mahasiswa[0]['nilai'][-1])"
      ]
    },
    {
      "cell_type": "code",
      "execution_count": null,
      "metadata": {
        "id": "oEMats61sEcG"
      },
      "outputs": [],
      "source": [
        "sinonim = open('files/sinonim.txt','r')\n",
        "i = 1\n",
        "for s in sinonim:\n",
        "#     print(s)\n",
        "    baris = s.split(':')\n",
        "    print(baris)\n",
        "    kata = baris[1].split(',')\n",
        "    print(baris[0],kata)"
      ]
    },
    {
      "cell_type": "markdown",
      "metadata": {
        "id": "YuNf6bg4sEcG"
      },
      "source": [
        "sebuah_dict = {'Miftah':'Kurus'}\n",
        "sebuah_dict['Miftah'] += ',Cantik'\n",
        "print(sebuah_dict)"
      ]
    },
    {
      "cell_type": "code",
      "execution_count": null,
      "metadata": {
        "id": "irgn_p2lsEcG"
      },
      "outputs": [],
      "source": [
        "paragraf = \"\"\"\n",
        "Kisah ini bermula dari seorang dewa dan seorang dewi yang karena kesalahan yang dibuatnya di kayangan, akhirnya harus menjalani hukuman di dunia. Keduanya dihukum untuk berbuat kebaikan dalam hidupnya di bumi dalam bentuk seekor babi hutan dan seekor anjing. Babi hutan jelmaan dewi itu bernama Wayung Hyang, sedangkan anjing jelmaan dewa itu bernama Tumang. Wayung Hyang karena dihukum sebagai babi hutan atau celeng, maka ia berusaha melakukan berbagai kebaikan di dalam sebuah hutan. Sementara Tumang, sang anjing jelmaan dewa itu mengabdi sebagai anjing pemburu pada seorang raja yang bernama Sumbing Perbangkara.\n",
        "\"\"\"\n",
        "\n",
        "#sintaks ini\n",
        "kalimat = [k.strip().upper() for k in paragraf.split('.')] #memisahkan kalimat berdasarkan titik untuk menjadi list\n",
        "# print(kalimat)\n",
        "\n",
        "#sama dengan ini\n",
        "kalimat_baru = []\n",
        "for k in paragraf.split('.'):\n",
        "    kalimat_baru.append(k.strip())\n",
        "#     if k.endswith('dunia'):\n",
        "#         print(\"Ada Dunia pada kalimat\",k)\n",
        "\n",
        "    if k.find('dunia'):\n",
        "        print(\"Ada dunia pada kalimat\",k)\n",
        "\n",
        "\n",
        "#versi satu satu\n",
        "kalimat_a = paragraf.split('.') #memisahkan kalimat berdasarkan titik di paragraf\n",
        "kalimat_a[1] =  kalimat_a[1].strip() #menghilangkan spasi\n",
        "kalimat_a[2] =  kalimat_a[2].strip() #menghilangkan spasi\n",
        "\n",
        "\n"
      ]
    },
    {
      "cell_type": "code",
      "execution_count": null,
      "metadata": {
        "id": "Vt4PVl0YsEcH"
      },
      "outputs": [],
      "source": [
        "k = \"abu salam \"\n",
        "print(k.capitalize())\n",
        "print(k.endswith(\"budi h\"))\n"
      ]
    }
  ],
  "metadata": {
    "kernelspec": {
      "display_name": "Python 3 (ipykernel)",
      "language": "python",
      "name": "python3"
    },
    "language_info": {
      "codemirror_mode": {
        "name": "ipython",
        "version": 3
      },
      "file_extension": ".py",
      "mimetype": "text/x-python",
      "name": "python",
      "nbconvert_exporter": "python",
      "pygments_lexer": "ipython3",
      "version": "3.9.5"
    },
    "colab": {
      "provenance": [],
      "include_colab_link": true
    }
  },
  "nbformat": 4,
  "nbformat_minor": 0
}